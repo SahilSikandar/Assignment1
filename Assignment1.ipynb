{
 "cells": [
  {
   "cell_type": "code",
   "execution_count": 23,
   "id": "3f767ede",
   "metadata": {},
   "outputs": [
    {
     "name": "stdout",
     "output_type": "stream",
     "text": [
      "     Twinkle, twinkle, little star,\n",
      "            How I wonder what you are,\n",
      "               Up above the world so high,\n",
      "               Like a diamond in the sky.\n",
      "     Twinkle, twinkle, little star,\n",
      "            How I wonder what you are.\n"
     ]
    }
   ],
   "source": [
    "print(  \n",
    "\"     Twinkle, twinkle, little star,\\n\"\n",
    "\"            How I wonder what you are,\\n\"\n",
    "\"               Up above the world so high,\\n\"\n",
    "\"               Like a diamond in the sky.\\n\"\n",
    "\"     Twinkle, twinkle, little star,\\n\"\n",
    "\"            How I wonder what you are.\");"
   ]
  },
  {
   "cell_type": "code",
   "execution_count": 26,
   "id": "90c09d86",
   "metadata": {},
   "outputs": [
    {
     "name": "stdout",
     "output_type": "stream",
     "text": [
      "3.9.7\n"
     ]
    }
   ],
   "source": [
    "from platform import python_version\n",
    "print(python_version())"
   ]
  },
  {
   "cell_type": "code",
   "execution_count": 31,
   "id": "9104c9d0",
   "metadata": {},
   "outputs": [
    {
     "name": "stdout",
     "output_type": "stream",
     "text": [
      "Curennt date and time: 2021-12-31 16:36:54.494917\n"
     ]
    }
   ],
   "source": [
    "import datetime\n",
    "current_time = datetime.datetime.now();\n",
    "print (\"Curennt date and time:\",current_time);\n"
   ]
  },
  {
   "cell_type": "code",
   "execution_count": 35,
   "id": "b0c53206",
   "metadata": {},
   "outputs": [
    {
     "name": "stdout",
     "output_type": "stream",
     "text": [
      "Input the radius of the circle : 4.55\n",
      "The area of the circle with radius 4.55 is: 65.03882191094269\n"
     ]
    }
   ],
   "source": [
    "from math import pi\n",
    "r = float(input (\"Input the radius of the circle : \"))\n",
    "print (\"The area of the circle with radius \" + str(r) + \" is: \" + str(pi * r**2))"
   ]
  },
  {
   "cell_type": "code",
   "execution_count": 34,
   "id": "38ec92c0",
   "metadata": {},
   "outputs": [
    {
     "name": "stdout",
     "output_type": "stream",
     "text": [
      "put your last  name sikandar\n",
      "put your first name sahil\n",
      "sahil sikandar\n"
     ]
    }
   ],
   "source": [
    "fname=input(\"put your last  name \");\n",
    "lname=input(\"put your first name \");\n",
    "print(lname,fname)"
   ]
  },
  {
   "cell_type": "code",
   "execution_count": 39,
   "id": "39fa0a2a",
   "metadata": {},
   "outputs": [
    {
     "name": "stdout",
     "output_type": "stream",
     "text": [
      "Enter First number:5\n",
      "Enter Second number:6\n",
      "Result: 11\n"
     ]
    }
   ],
   "source": [
    "n1=int(input(\"Enter First number:\"));\n",
    "n2=int(input(\"Enter Second number:\"));\n",
    "print(\"Result:\",n1+n2);"
   ]
  },
  {
   "cell_type": "code",
   "execution_count": null,
   "id": "702a5e3d",
   "metadata": {},
   "outputs": [],
   "source": []
  }
 ],
 "metadata": {
  "kernelspec": {
   "display_name": "Python 3 (ipykernel)",
   "language": "python",
   "name": "python3"
  },
  "language_info": {
   "codemirror_mode": {
    "name": "ipython",
    "version": 3
   },
   "file_extension": ".py",
   "mimetype": "text/x-python",
   "name": "python",
   "nbconvert_exporter": "python",
   "pygments_lexer": "ipython3",
   "version": "3.9.7"
  }
 },
 "nbformat": 4,
 "nbformat_minor": 5
}
